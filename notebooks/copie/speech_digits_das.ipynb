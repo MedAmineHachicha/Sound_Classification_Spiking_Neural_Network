{
 "cells": [
  {
   "cell_type": "code",
   "execution_count": 1,
   "metadata": {},
   "outputs": [],
   "source": [
    "import os\n",
    "import sys\n",
    "sys.path.append(\"../Processor\")\n",
    "import time\n",
    "import numpy as np\n",
    "import torch\n",
    "import matplotlib.pyplot as plt\n",
    "from torch.utils.data import DataLoader\n",
    "import torchvision\n",
    "\n",
    "from data_processor import SpeechDigitsDataset, BinningHistogram, Pad\n",
    "from models import SNN, SpikingConv2DLayer, ReadoutLayer, SurrogateHeaviside, SpikingDenseLayer"
   ]
  },
  {
   "cell_type": "code",
   "execution_count": 2,
   "metadata": {},
   "outputs": [],
   "source": [
    "dtype = torch.float\n",
    "device = torch.device(\"cpu\")"
   ]
  },
  {
   "cell_type": "code",
   "execution_count": 4,
   "metadata": {},
   "outputs": [
    {
     "name": "stdout",
     "output_type": "stream",
     "text": [
      "(898, 2)\n",
      "(1026, 2)\n",
      "370.8927869796753\n"
     ]
    }
   ],
   "source": [
    "train_dataset_raw = SpeechDigitsDataset(data_root=\"\", transform = None, mode=\"train\", nb_digits=1)\n",
    "print(train_dataset_raw[0][0].shape)\n",
    "print(train_dataset_raw[1][0].shape)\n",
    "max_end_time = train_dataset_raw.get_max_end_time()\n",
    "print(max_end_time / 0.005)\n",
    "size = 375"
   ]
  },
  {
   "cell_type": "code",
   "execution_count": 26,
   "metadata": {},
   "outputs": [],
   "source": [
    "data_root = \"\"\n",
    "binning_method = \"time\"\n",
    "T_l = 0.005\n",
    "batch_size = 32\n",
    "\n",
    "\n",
    "binning = BinningHistogram(binning_method=binning_method, T_l=T_l)\n",
    "pad = Pad(size)\n",
    "transform = torchvision.transforms.Compose([binning,\n",
    "                                 pad])\n",
    "\n",
    "train_dataset = SpeechDigitsDataset(data_root, transform = transform, mode=\"train\", nb_digits=1)\n",
    "train_dataloader = DataLoader(train_dataset, batch_size=batch_size)"
   ]
  },
  {
   "cell_type": "code",
   "execution_count": 29,
   "metadata": {},
   "outputs": [
    {
     "name": "stdout",
     "output_type": "stream",
     "text": [
      "(375, 64)\n",
      "(375, 64)\n"
     ]
    }
   ],
   "source": [
    "print(train_dataset[0][0].shape)\n",
    "print(train_dataset[1][0].shape)"
   ]
  },
  {
   "cell_type": "code",
   "execution_count": 28,
   "metadata": {},
   "outputs": [
    {
     "name": "stdout",
     "output_type": "stream",
     "text": [
      "torch.Size([32, 375, 64])\n"
     ]
    }
   ],
   "source": [
    "X_batch, _ = next(iter(train_dataloader))\n",
    "X_batch = X_batch.to(device, dtype)\n",
    "print(X_batch.shape)"
   ]
  },
  {
   "cell_type": "code",
   "execution_count": 51,
   "metadata": {},
   "outputs": [
    {
     "name": "stdout",
     "output_type": "stream",
     "text": [
      "Layer 0: average number of spikes=0.0189\n",
      "Layer 1: average number of spikes=0.0153\n",
      "Layer 2: average number of spikes=0.0220\n"
     ]
    }
   ],
   "source": [
    "spike_fn = SurrogateHeaviside.apply\n",
    "\n",
    "w_init_std = 0.15\n",
    "w_init_mean = 0.\n",
    "\n",
    "layers = []\n",
    "in_channels = 1\n",
    "out_channels = 64\n",
    "kernel_size = (4,3)\n",
    "dilation = (1,1)\n",
    "input_shape = 64\n",
    "output_shape = input_shape # padding mode is \"same\"\n",
    "layers.append(SpikingConv2DLayer(input_shape, output_shape,\n",
    "                 in_channels, out_channels, kernel_size, dilation,\n",
    "                 spike_fn, w_init_mean=w_init_mean, w_init_std=w_init_std, recurrent=False,\n",
    "                               lateral_connections=True))\n",
    "\n",
    "\n",
    "in_channels = out_channels\n",
    "out_channels = 64\n",
    "kernel_size = (4,3)\n",
    "dilation = (4,3)\n",
    "input_shape = output_shape\n",
    "output_shape = input_shape # padding mode is \"same\"\n",
    "layers.append(SpikingConv2DLayer(input_shape, output_shape,\n",
    "                 in_channels, out_channels, kernel_size, dilation,\n",
    "                 spike_fn, w_init_mean=w_init_mean, w_init_std=w_init_std, recurrent=False,\n",
    "                              lateral_connections=True))\n",
    "\n",
    "in_channels = out_channels\n",
    "out_channels = 64\n",
    "kernel_size = (4,3)\n",
    "dilation = (16,9)\n",
    "input_shape = output_shape\n",
    "output_shape = input_shape # padding mode is \"same\"\n",
    "layers.append(SpikingConv2DLayer(input_shape, output_shape,\n",
    "                 in_channels, out_channels, kernel_size, dilation,\n",
    "                 spike_fn, w_init_mean=w_init_mean, w_init_std=w_init_std, recurrent=False,\n",
    "                               lateral_connections=True, flatten_output=True))\n",
    "\n",
    "# previous layer output has been flattened\n",
    "input_shape = output_shape*out_channels\n",
    "output_shape = 11\n",
    "time_reduction=\"mean\" #mean or max\n",
    "layers.append(ReadoutLayer(input_shape, output_shape,\n",
    "                 w_init_mean=w_init_mean, w_init_std=w_init_std, time_reduction=time_reduction))\n",
    "\n",
    "snn = SNN(layers).to(device, dtype)\n",
    "\n",
    "X_batch, _ = next(iter(train_dataloader))\n",
    "X_batch = X_batch.to(device, dtype)\n",
    "#you need to add a channel dimension\n",
    "X_batch = X_batch.unsqueeze(1)\n",
    "snn(X_batch)\n",
    "\n",
    "for i,l in enumerate(snn.layers):\n",
    "    if isinstance(l, SpikingDenseLayer) or isinstance(l, SpikingConv2DLayer):\n",
    "        print(\"Layer {}: average number of spikes={:.4f}\".format(i,l.spk_rec_hist.mean()))"
   ]
  },
  {
   "cell_type": "code",
   "execution_count": null,
   "metadata": {},
   "outputs": [],
   "source": []
  }
 ],
 "metadata": {
  "kernelspec": {
   "display_name": "pytorch_p36",
   "language": "python",
   "name": "pytorch"
  },
  "language_info": {
   "codemirror_mode": {
    "name": "ipython",
    "version": 3
   },
   "file_extension": ".py",
   "mimetype": "text/x-python",
   "name": "python",
   "nbconvert_exporter": "python",
   "pygments_lexer": "ipython3",
   "version": "3.6.12"
  }
 },
 "nbformat": 4,
 "nbformat_minor": 2
}
